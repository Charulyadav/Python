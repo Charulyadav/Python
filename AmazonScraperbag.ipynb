{
 "cells": [
  {
   "cell_type": "code",
   "execution_count": 4,
   "id": "63eac0a4",
   "metadata": {},
   "outputs": [],
   "source": [
    "from bs4 import BeautifulSoup\n",
    "import requests\n",
    "import pandas as pd\n",
    "import numpy as np"
   ]
  },
  {
   "cell_type": "code",
   "execution_count": 8,
   "id": "8ca27ab4",
   "metadata": {},
   "outputs": [],
   "source": [
    "def get_title(soup):\n",
    "\n",
    "    \n",
    "    try:\n",
    "        title = soup.find(\"span\", attrs={\"id\":'productTitle'})\n",
    "        \n",
    "        title_value = title.text\n",
    "\n",
    "        title_string = title_value.strip()\n",
    "\n",
    "    except AttributeError:\n",
    "        title_string = \"\"\n",
    "\n",
    "    return title_string\n",
    "\n",
    "\n",
    "def get_price(soup):\n",
    "\n",
    "    try:\n",
    "        price = soup.find(\"span\", attrs={'class':'a-offscreen'}).string.strip()\n",
    "\n",
    "    except AttributeError:\n",
    "\n",
    "        try:\n",
    "            price = soup.find(\"span\", attrs={'id':'priceblock_dealprice'}).string.strip()\n",
    "\n",
    "        except:\n",
    "            price = \"\"\n",
    "\n",
    "    return price\n",
    "\n",
    "def get_rating(soup):\n",
    "\n",
    "    try:\n",
    "        rating = soup.find(\"i\", attrs={'class':'a-icon a-icon-star a-star-4-5'}).string.strip()\n",
    "    \n",
    "    except AttributeError:\n",
    "        try:\n",
    "            rating = soup.find(\"span\", attrs={'class':'a-icon-alt'}).string.strip()\n",
    "        except:\n",
    "            rating = \"\"\n",
    "\n",
    "    return rating\n",
    "\n",
    "def get_review_count(soup):\n",
    "    try:\n",
    "        review_count = soup.find(\"span\", attrs={'id':'acrCustomerReviewText'}).string.strip()\n",
    "\n",
    "    except AttributeError:\n",
    "        review_count = \"\"\n",
    "\n",
    "    return review_count\n"
   ]
  },
  {
   "cell_type": "code",
   "execution_count": null,
   "id": "4713b996",
   "metadata": {},
   "outputs": [],
   "source": [
    "\n",
    "if __name__ == '__main__':\n",
    "    \n",
    "    for i in range(1,21):\n",
    "    \n",
    "        HEADERS = ({'User-Agent' : 'Mozilla/5.0 (Windows NT 10.4; x64; en-US) AppleWebKit/601.48 (KHTML, like Gecko) Chrome/49.0.2767.228 Safari/602.0 Edge/13.57484' , 'Accept-Language' : 'en-Us, en;q=0.5'})\n",
    "\n",
    "        URL = f\"https://www.amazon.in/s?k=bags&page={i}&crid=2M096C61O4MLT&qid=1692721033&sprefix=ba%2Caps%2C283&ref=sr_pg_2\"\n",
    "\n",
    "        webpage = requests.get(URL, headers=HEADERS)\n",
    "\n",
    "        soup = BeautifulSoup(webpage.content, \"html.parser\")\n",
    "\n",
    "        links = soup.find_all(\"a\", attrs={'class':'a-link-normal s-underline-text s-underline-link-text s-link-style a-text-normal'})\n",
    "\n",
    "        links_list = []\n",
    "\n",
    "        for link in links:\n",
    "                links_list.append(link.get('href'))\n",
    "\n",
    "        d = {\"URL\":[],\"title\":[], \"price\":[], \"rating\":[], \"reviews\":[]}\n",
    "\n",
    "        for link in links_list:\n",
    "            new_webpage = requests.get(\"https://www.amazon.in\" + link, headers=HEADERS)\n",
    "            new_soup = BeautifulSoup(new_webpage.content, \"html.parser\")\n",
    "            d['URL'].append(new_webpage)\n",
    "            d['title'].append(get_title(new_soup))\n",
    "            d['price'].append(get_price(new_soup))\n",
    "            d['rating'].append(get_rating(new_soup))\n",
    "            d['reviews'].append(get_review_count(new_soup))\n",
    "\n",
    "        amazon_df = pd.DataFrame.from_dict(d)\n",
    "        amazon_df['title'].replace('', np.nan, inplace=True)\n",
    "        amazon_df = amazon_df.dropna(subset=['title'])\n",
    "        amazon_df.to_csv(\"amazon_bags_data.csv\", header=True, index=False)\n"
   ]
  },
  {
   "cell_type": "code",
   "execution_count": null,
   "id": "db08fbaf",
   "metadata": {},
   "outputs": [],
   "source": [
    "amazon_df"
   ]
  },
  {
   "cell_type": "code",
   "execution_count": null,
   "id": "0b4413e5",
   "metadata": {},
   "outputs": [],
   "source": []
  },
  {
   "cell_type": "code",
   "execution_count": null,
   "id": "c2cd5fc6",
   "metadata": {},
   "outputs": [],
   "source": []
  },
  {
   "cell_type": "code",
   "execution_count": null,
   "id": "2fdec697",
   "metadata": {},
   "outputs": [],
   "source": []
  }
 ],
 "metadata": {
  "kernelspec": {
   "display_name": "Python 3 (ipykernel)",
   "language": "python",
   "name": "python3"
  },
  "language_info": {
   "codemirror_mode": {
    "name": "ipython",
    "version": 3
   },
   "file_extension": ".py",
   "mimetype": "text/x-python",
   "name": "python",
   "nbconvert_exporter": "python",
   "pygments_lexer": "ipython3",
   "version": "3.9.7"
  }
 },
 "nbformat": 4,
 "nbformat_minor": 5
}
